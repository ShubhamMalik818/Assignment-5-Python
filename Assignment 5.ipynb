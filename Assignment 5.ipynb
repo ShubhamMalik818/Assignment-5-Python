{
 "cells": [
  {
   "cell_type": "code",
   "execution_count": null,
   "id": "a4f30c8f-ff63-438b-8c3d-df42d6f8c6ae",
   "metadata": {},
   "outputs": [],
   "source": [
    "1.Create a python program to sort the given list of tuples based on integer value using a lambda function.\n",
    "  \n",
    "  [('Sachin Tendulkar',3457),('Ricky Ponting',27488),('Jack Kallis',25534),('Virat Kohli',24936)]\n"
   ]
  },
  {
   "cell_type": "code",
   "execution_count": 2,
   "id": "4d88181b-7a16-4d5e-83f3-54272d515510",
   "metadata": {},
   "outputs": [
    {
     "name": "stdout",
     "output_type": "stream",
     "text": [
      "[('Virat Kohli', 24936), ('Jack Kallis', 25534), ('Ricky Ponting', 27483), ('Sachin Tendulkar', 34357)]\n"
     ]
    }
   ],
   "source": [
    "my_list = [('Sachin Tendulkar', 34357), ('Ricky Ponting', 27483), ('Jack Kallis', 25534), ('Virat Kohli', 24936)]\n",
    "\n",
    "sorted_list = sorted(my_list, key=lambda x: x[1])\n",
    "\n",
    "print(sorted_list)\n",
    "\n"
   ]
  },
  {
   "cell_type": "code",
   "execution_count": null,
   "id": "b7d8b97e-f647-4e42-89dc-7d4d3e1c652b",
   "metadata": {},
   "outputs": [],
   "source": [
    "2. Write a python program to find the squares of all the numbers in the given list of integers using lambda and map functions.\n",
    "   [1,2,3,4,5,6,7,8,9,10]"
   ]
  },
  {
   "cell_type": "code",
   "execution_count": 1,
   "id": "4509babd-7cbd-437a-aa8e-8501c154e841",
   "metadata": {},
   "outputs": [],
   "source": [
    "l=[1,2,3,4,5,6,7,8,9,10]"
   ]
  },
  {
   "cell_type": "code",
   "execution_count": 2,
   "id": "38e5f549-1969-4aba-bd96-640d2cc6ddcc",
   "metadata": {},
   "outputs": [
    {
     "data": {
      "text/plain": [
       "[1, 4, 9, 16, 25, 36, 49, 64, 81, 100]"
      ]
     },
     "execution_count": 2,
     "metadata": {},
     "output_type": "execute_result"
    }
   ],
   "source": [
    "list(map(lambda x:x**2,l))"
   ]
  },
  {
   "cell_type": "code",
   "execution_count": null,
   "id": "1e001c77-1008-4bd4-942f-5c17c80e46b2",
   "metadata": {},
   "outputs": [],
   "source": [
    "3. Write a python program to convert the given list of integers into a tuple of strings. Use map and lambda functions.\n",
    "   Given String:[1,2,3,4,5,6,7,8,9,10]\n",
    "    Expected output:('1','2','3','4','5','6','7','8','9','10')"
   ]
  },
  {
   "cell_type": "code",
   "execution_count": 3,
   "id": "a424f5fb-3efd-49a8-aa3e-c7fdb4b53e18",
   "metadata": {},
   "outputs": [],
   "source": [
    "s=[1,2,3,4,5,6,7,8,9,10]"
   ]
  },
  {
   "cell_type": "code",
   "execution_count": 4,
   "id": "69d96cfb-9fd5-453d-97cd-5fc29fe9abae",
   "metadata": {},
   "outputs": [
    {
     "name": "stdout",
     "output_type": "stream",
     "text": [
      "(1, 2, 3, 4, 5, 6, 7, 8, 9, 10)\n"
     ]
    }
   ],
   "source": [
    "def convert(s):\n",
    "    return tuple(i for i in s)\n",
    "   \n",
    "\n",
    "s=[1,2,3,4,5,6,7,8,9,10]\n",
    "print(convert(s))"
   ]
  },
  {
   "cell_type": "code",
   "execution_count": 5,
   "id": "22bd8c9f-3ed4-47f2-84f2-91300341bc94",
   "metadata": {},
   "outputs": [
    {
     "data": {
      "text/plain": [
       "['1', '2', '3', '4', '5', '6', '7', '8', '9', '10']"
      ]
     },
     "execution_count": 5,
     "metadata": {},
     "output_type": "execute_result"
    }
   ],
   "source": [
    "list(map(lambda s:str(s),s))"
   ]
  },
  {
   "cell_type": "code",
   "execution_count": null,
   "id": "c1cf3486-872a-4ee7-967e-1650956748f2",
   "metadata": {},
   "outputs": [],
   "source": [
    "4. Write a python program using reduce function to compute the product of list containing numbers from 1 to 25."
   ]
  },
  {
   "cell_type": "code",
   "execution_count": 20,
   "id": "dd6ee3f2-b431-458a-91f9-cdf011972480",
   "metadata": {},
   "outputs": [],
   "source": [
    "from functools import reduce"
   ]
  },
  {
   "cell_type": "code",
   "execution_count": 21,
   "id": "6ec8ca3c-cbc8-4aa2-9725-836adeb3b7d8",
   "metadata": {},
   "outputs": [],
   "source": [
    "l=range(1,26)"
   ]
  },
  {
   "cell_type": "code",
   "execution_count": null,
   "id": "cc7c5175-cbec-4372-bfc0-44903a2f1219",
   "metadata": {},
   "outputs": [
    {
     "data": {
      "text/plain": [
       "[1,\n",
       " 2,\n",
       " 3,\n",
       " 4,\n",
       " 5,\n",
       " 6,\n",
       " 7,\n",
       " 8,\n",
       " 9,\n",
       " 10,\n",
       " 11,\n",
       " 12,\n",
       " 13,\n",
       " 14,\n",
       " 15,\n",
       " 16,\n",
       " 17,\n",
       " 18,\n",
       " 19,\n",
       " 20,\n",
       " 21,\n",
       " 22,\n",
       " 23,\n",
       " 24,\n",
       " 25]"
      ]
     },
     "execution_count": 24,
     "metadata": {},
     "output_type": "execute_result"
    }
   ],
   "source": [
    "list(l)"
   ]
  },
  {
   "cell_type": "code",
   "execution_count": 23,
   "id": "d865f068-2aa1-473e-b9bc-1f1c092fcba5",
   "metadata": {},
   "outputs": [
    {
     "data": {
      "text/plain": [
       "15511210043330985984000000"
      ]
     },
     "execution_count": 23,
     "metadata": {},
     "output_type": "execute_result"
    }
   ],
   "source": [
    "reduce(lambda x,y:x*y,l)"
   ]
  },
  {
   "cell_type": "code",
   "execution_count": null,
   "id": "2fbaa155-ec08-4ea5-a487-377354aa48f6",
   "metadata": {},
   "outputs": [],
   "source": [
    "5. Write a python program to filter the numbers in a given list that are divisible by 2 and 3 using the filter function.\n",
    "   [2,3,6,9,27,60,90,120,55,46]"
   ]
  },
  {
   "cell_type": "code",
   "execution_count": 32,
   "id": "8fdedfbe-2d71-4f59-8ed8-7f5ceaaa5a38",
   "metadata": {},
   "outputs": [],
   "source": [
    "from functools import reduce"
   ]
  },
  {
   "cell_type": "code",
   "execution_count": 27,
   "id": "5eaf8a3f-e601-434d-a44a-494caa6443c3",
   "metadata": {},
   "outputs": [],
   "source": [
    "s=[2,3,6,9,27,60,90,120,55,46]"
   ]
  },
  {
   "cell_type": "code",
   "execution_count": 35,
   "id": "6f3d2836-ec96-4d7e-9c6f-9509646ee2d6",
   "metadata": {},
   "outputs": [
    {
     "data": {
      "text/plain": [
       "[6, 60, 90, 120]"
      ]
     },
     "execution_count": 35,
     "metadata": {},
     "output_type": "execute_result"
    }
   ],
   "source": [
    "list(filter(lambda x:x%2==0 and x%3==0,s))"
   ]
  },
  {
   "cell_type": "code",
   "execution_count": null,
   "id": "238658ef-4678-4034-a783-fa7d945f0be3",
   "metadata": {},
   "outputs": [],
   "source": [
    "6. Write a python program to find palindromes in the given list of strings using lambda and filter function.\n",
    "   ['python','php','aba','radar','level']"
   ]
  },
  {
   "cell_type": "code",
   "execution_count": 36,
   "id": "1f9b92f6-5025-42d8-9016-e0ad7a26a446",
   "metadata": {},
   "outputs": [],
   "source": [
    "s= ['python','php','aba','radar','level']"
   ]
  },
  {
   "cell_type": "code",
   "execution_count": 46,
   "id": "3aca3fbf-4afc-439c-b4e7-75fcda70d151",
   "metadata": {},
   "outputs": [
    {
     "ename": "IndentationError",
     "evalue": "expected an indented block after function definition on line 1 (4280931412.py, line 4)",
     "output_type": "error",
     "traceback": [
      "\u001b[0;36m  Cell \u001b[0;32mIn[46], line 4\u001b[0;36m\u001b[0m\n\u001b[0;31m    if s=s[::-1]:\u001b[0m\n\u001b[0m    ^\u001b[0m\n\u001b[0;31mIndentationError\u001b[0m\u001b[0;31m:\u001b[0m expected an indented block after function definition on line 1\n"
     ]
    }
   ],
   "source": [
    "def palindrome_number(s):\n",
    "    \n",
    "      \n",
    "if s=s[::-1]:  \n",
    "      print(\"The letter is a palindrome\")  \n",
    "else:  \n",
    "      print(\"The letter is not a palindrome\") "
   ]
  },
  {
   "cell_type": "code",
   "execution_count": 38,
   "id": "b817d779-e519-4d75-901c-44956427ce51",
   "metadata": {},
   "outputs": [
    {
     "data": {
      "text/plain": [
       "['python', 'php', 'aba', 'radar', 'level']"
      ]
     },
     "execution_count": 38,
     "metadata": {},
     "output_type": "execute_result"
    }
   ],
   "source": [
    "list(filter(lambda n:n,s))"
   ]
  },
  {
   "cell_type": "code",
   "execution_count": null,
   "id": "0ed23b6f-b387-4cc8-9748-9b04b9442f1f",
   "metadata": {},
   "outputs": [],
   "source": [
    "my_list = ['python', 'php', 'aba', 'radar', 'level']\n",
    "\n",
    "palindrome_list = list(filter(lambda x: x == x[::-1], my_list))\n",
    "\n",
    "print(palindrome_list)\n"
   ]
  }
 ],
 "metadata": {
  "kernelspec": {
   "display_name": "Python 3 (ipykernel)",
   "language": "python",
   "name": "python3"
  },
  "language_info": {
   "codemirror_mode": {
    "name": "ipython",
    "version": 3
   },
   "file_extension": ".py",
   "mimetype": "text/x-python",
   "name": "python",
   "nbconvert_exporter": "python",
   "pygments_lexer": "ipython3",
   "version": "3.10.8"
  }
 },
 "nbformat": 4,
 "nbformat_minor": 5
}
